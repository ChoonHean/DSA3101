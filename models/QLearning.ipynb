{
 "cells": [
  {
   "cell_type": "code",
   "id": "initial_id",
   "metadata": {
    "collapsed": true,
    "ExecuteTime": {
     "end_time": "2025-03-15T08:31:28.534174Z",
     "start_time": "2025-03-15T08:31:27.441875Z"
    }
   },
   "source": "from pyqlearning.qlearning.greedy_q_learning import GreedyQLearning",
   "outputs": [],
   "execution_count": 2
  },
  {
   "metadata": {
    "ExecuteTime": {
     "end_time": "2025-03-15T08:31:45.799440Z",
     "start_time": "2025-03-15T08:31:45.780834Z"
    }
   },
   "cell_type": "code",
   "source": [
    "import warnings\n",
    "warnings.simplefilter(action=\"ignore\", category=FutureWarning)"
   ],
   "id": "e3172e7472865995",
   "outputs": [],
   "execution_count": 6
  },
  {
   "metadata": {
    "ExecuteTime": {
     "end_time": "2025-03-15T08:32:49.673506Z",
     "start_time": "2025-03-15T08:32:49.647082Z"
    }
   },
   "cell_type": "code",
   "source": [
    "class PriceReinforcementLearning(GreedyQLearning):\n",
    "    def __init__(self):\n",
    "        super().__init__()\n",
    "        self.set_alpha_value(1.0)\n",
    "        self.set_epsilon_greedy_rate(0.8)\n",
    "\n",
    "    def extract_possible_actions(self, state_key):\n",
    "        return list(filter(lambda x: 1 <= x <= 5, (state_key - 1, state_key, state_key + 1)))\n",
    "\n",
    "    def observe_reward_value(self, state_key, action_key):\n",
    "        return 5 - action_key\n",
    "\n",
    "    def learn(self, a, limit=1000):\n",
    "        super().learn(a, limit)\n",
    "        print(self.q_df.sort_values(\"q_value\", ascending=False))"
   ],
   "id": "509f13a4cd33d736",
   "outputs": [],
   "execution_count": 13
  },
  {
   "metadata": {
    "ExecuteTime": {
     "end_time": "2025-03-15T08:32:49.943403Z",
     "start_time": "2025-03-15T08:32:49.913673Z"
    }
   },
   "cell_type": "code",
   "source": [
    "ql = PriceReinforcementLearning()\n",
    "for i in range(1, 6):\n",
    "    for j in range(max(1, i - 1), min(6, i + 2)):\n",
    "        ql.save_q_df(i, j, 1.0)"
   ],
   "id": "b5bbc45430eca322",
   "outputs": [],
   "execution_count": 14
  },
  {
   "metadata": {
    "ExecuteTime": {
     "end_time": "2025-03-15T08:32:54.972072Z",
     "start_time": "2025-03-15T08:32:50.785080Z"
    }
   },
   "cell_type": "code",
   "source": "ql.learn(1, limit=1000)",
   "id": "1234189c0f11d7f2",
   "outputs": [
    {
     "name": "stdout",
     "output_type": "stream",
     "text": [
      "   state_key  action_key   q_value\n",
      "0        1.0         1.0  8.000000\n",
      "0        2.0         1.0  8.000000\n",
      "0        1.0         2.0  7.000000\n",
      "0        3.0         2.0  7.000000\n",
      "0        2.0         2.0  7.000000\n",
      "0        4.0         3.0  5.500000\n",
      "0        2.0         3.0  5.500000\n",
      "0        3.0         4.0  3.750000\n",
      "0        4.0         4.0  2.000000\n",
      "0        5.0         4.0  2.000000\n",
      "0        3.0         3.0  1.000000\n",
      "0        4.0         5.0  0.999992\n",
      "0        5.0         5.0  0.500000\n"
     ]
    }
   ],
   "execution_count": 15
  },
  {
   "metadata": {},
   "cell_type": "code",
   "outputs": [],
   "execution_count": null,
   "source": "",
   "id": "d081db3ad3cd6fd7"
  }
 ],
 "metadata": {
  "kernelspec": {
   "display_name": "Python 3",
   "language": "python",
   "name": "python3"
  },
  "language_info": {
   "codemirror_mode": {
    "name": "ipython",
    "version": 2
   },
   "file_extension": ".py",
   "mimetype": "text/x-python",
   "name": "python",
   "nbconvert_exporter": "python",
   "pygments_lexer": "ipython2",
   "version": "2.7.6"
  }
 },
 "nbformat": 4,
 "nbformat_minor": 5
}
