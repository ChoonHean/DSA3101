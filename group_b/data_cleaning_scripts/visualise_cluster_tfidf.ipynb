{
 "cells": [
  {
   "cell_type": "markdown",
   "id": "b1fa28255e8c2587",
   "metadata": {},
   "source": [
    "### Summary of Findings Across Different Cluster Sizes    \n",
    "We will be inspecting the clusters content of N= 100, 150, 200, to find an optimal number of clusters that captures both variety and meaningful customization attributes."
   ]
  },
  {
   "cell_type": "code",
   "execution_count": 203,
   "id": "99c13ded6be3a0ac",
   "metadata": {
    "ExecuteTime": {
     "end_time": "2025-03-08T08:35:47.494598Z",
     "start_time": "2025-03-08T08:35:47.490081Z"
    }
   },
   "source": [
    "import pandas as pd"
   ],
   "outputs": []
  },
  {
   "cell_type": "code",
   "execution_count": 204,
   "id": "e950b3a42b5ebd58",
   "metadata": {
    "ExecuteTime": {
     "end_time": "2025-03-08T08:35:47.505629Z",
     "start_time": "2025-03-08T08:35:47.503099Z"
    }
   },
   "source": [
    "headers = ['Word 1', 'Word 2', 'Word 3', 'Word 4', 'Word 5', 'Word 6', 'Word 7', 'Word 8', 'Word 9', 'Word 10']"
   ],
   "outputs": []
  },
  {
   "cell_type": "markdown",
   "id": "f02e217615eeb285",
   "metadata": {},
   "source": [
    "#### Number of Clusters = 100\n",
    "Observations:  \n",
    "- only a few types of glasses, does not sufficiently capture customisation.\n",
    "\n",
    "Conclusion:\n",
    "- too few clusters, leading to overgeneralisation."
   ]
  },
  {
   "cell_type": "code",
   "execution_count": 205,
   "id": "initial_id",
   "metadata": {
    "ExecuteTime": {
     "end_time": "2025-03-08T08:35:47.544746Z",
     "start_time": "2025-03-08T08:35:47.532496Z"
    },
    "collapsed": true,
    "jupyter": {
     "outputs_hidden": true
    }
   },
   "source": [
    "cluster_100_df = pd.read_csv(\"../dataset/others/top_words_for_100.csv\")\n",
    "cluster_100_df = cluster_100_df.iloc[:, 1:]\n",
    "cluster_100_df.columns = headers\n",
    "\n",
    "# there is less variety of glasses, compared to when there are more clusters e.g. 150, 200\n",
    "filtered_df = cluster_100_df[cluster_100_df.apply(lambda row: (row == \"glass\").any(), axis=1)]\n",
    "filtered_df\n"
   ],
   "outputs": []
  },
  {
   "cell_type": "markdown",
   "id": "89d226870483b1a4",
   "metadata": {},
   "source": [
    "#### Number of Clusters = 150\n",
    "Observations:  \n",
    "- compared to cluster_size = 100, there are more variety of glasses and the clusters have distinctive customization features. \n",
    "- a variety of women’s dresses were identified with different customization features (e.g., summer, party, formal, loose).\n",
    "- within floral summer dresses for woman, meaningful distinctions between sleeve, sleeveless or styles with pockets were observed. \n",
    "\n",
    "Conclusion:\n",
    "- a good balance of between cluster size and customization level."
   ]
  },
  {
   "cell_type": "code",
   "execution_count": 206,
   "id": "af8911e46661e74b",
   "metadata": {
    "ExecuteTime": {
     "end_time": "2025-03-08T08:35:47.628165Z",
     "start_time": "2025-03-08T08:35:47.583022Z"
    }
   },
   "source": [
    "cluster_150_df = pd.read_csv(\"../dataset/others/top_words_for_150.csv\")\n",
    "cluster_150_df = cluster_150_df.iloc[:, 1:]\n",
    "cluster_150_df.columns = headers\n",
    "\n",
    "# there are more variety of glasses, e.g. black frame, sports, night vision, vintage/ retro, reading, sunglass\n",
    "# filtered_df = cluster_150_df[cluster_150_df.apply(lambda row: (row == \"glass\").any(), axis=1)].reset_index(drop=True)\n",
    "# filtered_df\n",
    "\n",
    "# there is a variety of woman dress and their customised features e.g. tunic, summer, vintage, party\n",
    "# filtered_df = cluster_100_df[cluster_100_df.apply(lambda row: (row == \"woman\").any() & (row == \"dress\").any(), axis=1)].reset_index(drop=True)\n",
    "# filtered_df\n",
    "\n",
    "# within items such as floral summer dress for woman, there is appropriate level of customisation such as between sleeve and sleeveless, and dress with pocket\n",
    "filtered_df = cluster_150_df[\n",
    "    cluster_150_df.apply(lambda row: (row == \"woman\").any() & (row == \"dress\").any() & (row == \"floral\").any() & (row == \"summer\").any() , axis=1)\n",
    "]\n",
    "filtered_df\n"
   ],
   "outputs": []
  },
  {
   "cell_type": "markdown",
   "id": "782f7d2446d8f789",
   "metadata": {},
   "source": [
    "#### Number of Clusters = 200\n",
    "Observations:  \n",
    "- more detailed breakdown of woman dresses, but new clusters did not provide any new insightful customisation features.\n",
    "- mixed features within a cluster due to small cluster size. e.g. sleeve and sleeveless both in same cluster\n",
    "- some clusters only showed generic terms without much differentiation\n",
    "\n",
    "Conclusion:\n",
    "- too many clusters, leading to over-fragmentation where some clusters lack distinctive features."
   ]
  },
  {
   "cell_type": "code",
   "execution_count": 207,
   "id": "6833e6091471a2a9",
   "metadata": {
    "ExecuteTime": {
     "end_time": "2025-03-08T08:35:47.730678Z",
     "start_time": "2025-03-08T08:35:47.692623Z"
    }
   },
   "source": [
    "cluster_200_df = pd.read_csv(\"../dataset/others/top_words_for_200.csv\")\n",
    "cluster_200_df = cluster_200_df.iloc[:, 1:]\n",
    "cluster_200_df.columns = headers\n",
    "\n",
    "# the extra cluster does not provide any insightful distinction, clusters overlapping\n",
    "# mixed features within a cluster due to small cluster size. e.g. sleeve and sleeveless both in same cluster\n",
    "filtered_df = cluster_200_df[\n",
    "    cluster_200_df.apply(lambda row: (row == \"woman\").any() & (row == \"dress\").any() & (row == \"floral\").any() & (row == \"summer\").any() & (row == \"sleeve\").any(), axis=1)\n",
    "]\n",
    "filtered_df \n"
   ],
   "outputs": []
  },
  {
   "cell_type": "markdown",
   "id": "ce14ef5964786009",
   "metadata": {},
   "source": [
    "### Conclusion\n",
    "We will choose 150 clusters for MiniBatchKMeans clustering, as it is observed to achieve balance between number of clusters and appropriate level of customisation."
   ]
  }
 ],
 "metadata": {
  "kernelspec": {
   "display_name": "Python 3 (ipykernel)",
   "language": "python",
   "name": "python3"
  },
  "language_info": {
   "codemirror_mode": {
    "name": "ipython",
    "version": 3
   },
   "file_extension": ".py",
   "mimetype": "text/x-python",
   "name": "python",
   "nbconvert_exporter": "python",
   "pygments_lexer": "ipython3",
   "version": "3.12.4"
  }
 },
 "nbformat": 4,
 "nbformat_minor": 5
}
